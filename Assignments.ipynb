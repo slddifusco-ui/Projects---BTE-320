{
  "nbformat": 4,
  "nbformat_minor": 0,
  "metadata": {
    "colab": {
      "provenance": [],
      "authorship_tag": "ABX9TyOPOulkRw/NxW3vrWy4FsQb",
      "include_colab_link": true
    },
    "kernelspec": {
      "name": "python3",
      "display_name": "Python 3"
    },
    "language_info": {
      "name": "python"
    }
  },
  "cells": [
    {
      "cell_type": "markdown",
      "metadata": {
        "id": "view-in-github",
        "colab_type": "text"
      },
      "source": [
        "<a href=\"https://colab.research.google.com/github/slddifusco-ui/Projects---BTE-320/blob/main/Assignments.ipynb\" target=\"_parent\"><img src=\"https://colab.research.google.com/assets/colab-badge.svg\" alt=\"Open In Colab\"/></a>"
      ]
    },
    {
      "cell_type": "markdown",
      "source": [
        "# **In Class Assignments**"
      ],
      "metadata": {
        "id": "DfMglxfHxrTI"
      }
    },
    {
      "cell_type": "markdown",
      "source": [
        "**Assignment #1**"
      ],
      "metadata": {
        "id": "0jIge2JwF6oy"
      }
    },
    {
      "cell_type": "markdown",
      "source": [
        "name = input(\"...\")\n",
        "\n",
        "name= int(name)\n",
        "\n",
        "b=...\n",
        "\n",
        "input(b)\n",
        "\n",
        "float(b)\n",
        "\n",
        "str(b)\n",
        "\n",
        "set(b)\n",
        "\n",
        "name = Int(input(\"...\"))"
      ],
      "metadata": {
        "id": "iJ1IDLLjRpNu"
      }
    },
    {
      "cell_type": "code",
      "source": [
        "month = input(\"Enter month: \")\n",
        "day = int(input(\"Enter day: \"))\n",
        "print(month)\n",
        "print(month,day)\n",
        "type(day)"
      ],
      "metadata": {
        "colab": {
          "base_uri": "https://localhost:8080/"
        },
        "id": "GfrcFyIdSG8t",
        "outputId": "9f593307-366e-4dbb-8066-b0f75f293ff1"
      },
      "execution_count": null,
      "outputs": [
        {
          "output_type": "stream",
          "name": "stdout",
          "text": [
            "Enter month: September\n",
            "Enter day: 02\n",
            "September\n",
            "September 2\n"
          ]
        },
        {
          "output_type": "execute_result",
          "data": {
            "text/plain": [
              "int"
            ]
          },
          "metadata": {},
          "execution_count": 18
        }
      ]
    },
    {
      "cell_type": "code",
      "execution_count": null,
      "metadata": {
        "id": "WuFVuTsBn57N",
        "colab": {
          "base_uri": "https://localhost:8080/"
        },
        "outputId": "0003b262-2e7b-456d-e4eb-adc797d28972"
      },
      "outputs": [
        {
          "output_type": "stream",
          "name": "stdout",
          "text": [
            "Enter sales ($):12000\n",
            "Sales: $12000.0\n",
            "Enter tax rate (%): 30\n",
            " Tax Rate: 30.0\n",
            "cogs: $4800.0\n",
            "Gross Profit: $7200.0\n",
            "Taxes: $2160.0\n",
            "Net_Profit: $5040.0\n"
          ]
        }
      ],
      "source": [
        "sales = float(input(\"Enter sales ($):\"))\n",
        "print(f\"Sales: ${sales}\")\n",
        "rate = float(input(\"Enter tax rate (%): \"))\n",
        "print(f\" Tax Rate: {rate}\")\n",
        "\n",
        "# Cost of Goods Sold\n",
        "cogs = 0.4\n",
        "cogs_sold= sales * cogs\n",
        "print(f\"cogs: ${cogs_sold}\")\n",
        "\n",
        "# Gross Profit\n",
        "Gross_rofit = sales - (cogs * sales)\n",
        "print(f\"Gross Profit: ${Gross_rofit}\")\n",
        "\n",
        "#Taxes\n",
        "taxes = (rate/100) * Gross_rofit\n",
        "print(f\"Taxes: ${taxes}\")\n",
        "\n",
        "#Net Income\n",
        "net_profit = Gross_rofit - taxes\n",
        "print(f\"Net_Profit: ${net_profit}\")"
      ]
    },
    {
      "cell_type": "markdown",
      "source": [
        "**Assignment #2**"
      ],
      "metadata": {
        "id": "AuL3elAfSoW8"
      }
    },
    {
      "cell_type": "markdown",
      "source": [
        "**Inventory Management:**\n",
        "\n",
        "Assume an item has a steady demand during every year. There is a cost for placing an order with the supplioer and a cost for restocking this item. There is also a cost for storing items /eg. warehouse/. Given these costs and your demand forecast, calculate how much of the item to reorder to minimize annual ordering and storing costs. This amount is reffered to as the Economic Order Quantity (EOQ)\n",
        "\n",
        "**Given the following assumptions:**\n",
        "\n",
        "* D= annual demand (units/year)  \n",
        "* S= reorder cost($/order)  \n",
        "\n",
        "*   H= holding cost($/unit/year)\n",
        "\n",
        "* Then EOQ= (2*D*S/H)^1/2\n"
      ],
      "metadata": {
        "id": "d_Mrz0jen7_c"
      }
    },
    {
      "cell_type": "code",
      "source": [
        "#Inputs: demand, reorder cost and holding cost\n",
        "demand=input(\"Enter demand(units/year):\")\n",
        "demand=int(demand)\n",
        "\n",
        "reorder=input(\"Enter reorder cost ($/unit):\")\n",
        "reorder=float(reorder)\n",
        "\n",
        "holding=input(\"Enter holding cost ($/unit/year)\")\n",
        "holding=float(holding)\n",
        "\n",
        "#Process: Calculate EOQ\n",
        "eoq= (2 * demand * reorder / holding)**0.5\n",
        "\n",
        "#Output: Display EOQ Value\n",
        "print(f\"EOQ = {eoq} units\")"
      ],
      "metadata": {
        "colab": {
          "base_uri": "https://localhost:8080/"
        },
        "id": "C4E6c1VWpp-y",
        "outputId": "1bf81599-83fc-4fbe-bdfb-e97b3599a274"
      },
      "execution_count": null,
      "outputs": [
        {
          "output_type": "stream",
          "name": "stdout",
          "text": [
            "Enter demand(units/year):100\n",
            "Enter reorder cost ($/unit):1.5\n",
            "Enter holding cost ($/unit/year)3\n",
            "EOQ = 10.0 units\n"
          ]
        }
      ]
    },
    {
      "cell_type": "markdown",
      "source": [
        "**Assignment 3**"
      ],
      "metadata": {
        "id": "CB2DHzpnqX81"
      }
    },
    {
      "cell_type": "markdown",
      "source": [
        "**Numerical calculator (if-elif-else statements)**\n",
        "\n",
        "Instructions: Design a simple numberical calculator in Python. The user needs to provide three inputs: two numbers and the mathematical operator of their choice. The program should print the output on the screen"
      ],
      "metadata": {
        "id": "kqQGOZeDqc_j"
      }
    },
    {
      "cell_type": "code",
      "source": [
        "# Numerical Calculator\n",
        "\n",
        "# Inputs\n",
        "number1 = float(input(\"Enter the first number:\"))\n",
        "number2 = float(input(\"Enter the second number:\"))\n",
        "operator = input(\"Enter an operator (+, -, *, /, //, **, %): \")\n",
        "\n",
        "# Calculator Logic\n",
        "if operator == \"+\":\n",
        "    result = number1 + number2\n",
        "    print(\"Result:\", result)\n",
        "elif operator == \"-\":\n",
        "    result = number1 - number2\n",
        "    print(\"Result:\", result)\n",
        "elif operator == \"*\":\n",
        "    result = number1 * number2\n",
        "    print(\"Result:\", result)\n",
        "elif operator == \"/\":\n",
        "    if number2 != 0:\n",
        "        result = number1 / number2\n",
        "        print(\"Result:\", result)\n",
        "    else:\n",
        "        print(\"Error: Division by zero is not allowed.\")\n",
        "elif operator == \"//\":\n",
        "    result = number1 // number2\n",
        "    print(\"Result:\", result)\n",
        "elif operator == \"**\":\n",
        "    result = number1 ** number2\n",
        "    print(\"Result:\", result)\n",
        "elif operator == \"%\":\n",
        "    result = number1 % number2\n",
        "    print(\"Result:\", result)\n",
        "else:\n",
        "    print(\"Invalid operator! Please use +, -, *, /, //, **, %.\")\n"
      ],
      "metadata": {
        "colab": {
          "base_uri": "https://localhost:8080/"
        },
        "id": "vB1HmkDVq0p4",
        "outputId": "003bc4f4-4c01-449f-aed4-956daee9557d"
      },
      "execution_count": null,
      "outputs": [
        {
          "output_type": "stream",
          "name": "stdout",
          "text": [
            "Enter the first number:200\n",
            "Enter the second number:12\n",
            "Enter an operator (+, -, *, /, //, **, %): **\n",
            "Result: 4.096e+27\n"
          ]
        }
      ]
    },
    {
      "cell_type": "markdown",
      "source": [
        "**Assignment 4:**\n",
        "**Parking Garage (for/while loop)**\n",
        "\n",
        "*   A parking garage charges $5 plus $2.50 for each hour parked\n",
        "*   Write a program that prints the number of hours parket and the corresponding fee side by side, from 1 to 18\n",
        "\n",
        "\n",
        "*   Example OUtput\n",
        "*   1 = 7.5\n",
        "\n",
        "*   2 = 10.0\n",
        "*   3 = 12.5\n",
        "\n",
        "*   4 = 15.0\n",
        "*  ** Bonus:** The minimmum fee $10 and the maximim fee is 20\n",
        "\n",
        "\n",
        "\n",
        "\n",
        "\n",
        "\n"
      ],
      "metadata": {
        "id": "vrPpT-Szb7Qs"
      }
    },
    {
      "cell_type": "code",
      "source": [
        "#For Loop\n",
        "print(\"# of hours\\tFee ($)\")\n",
        "print(\"---------------------------------\")\n",
        "for hours in range(1,9):\n",
        "  print(f\"(hours)\\t\\t(5+ hours * 2.5)\")"
      ],
      "metadata": {
        "colab": {
          "base_uri": "https://localhost:8080/"
        },
        "id": "4CpPyIpSciCU",
        "outputId": "209d6c56-bc40-49bb-ae0c-d2bf0784735f"
      },
      "execution_count": null,
      "outputs": [
        {
          "output_type": "stream",
          "name": "stdout",
          "text": [
            "# of hours\tFee ($)\n",
            "---------------------------------\n",
            "(hours)\t\t(5+ hours * 2.5)\n",
            "(hours)\t\t(5+ hours * 2.5)\n",
            "(hours)\t\t(5+ hours * 2.5)\n",
            "(hours)\t\t(5+ hours * 2.5)\n",
            "(hours)\t\t(5+ hours * 2.5)\n",
            "(hours)\t\t(5+ hours * 2.5)\n",
            "(hours)\t\t(5+ hours * 2.5)\n",
            "(hours)\t\t(5+ hours * 2.5)\n"
          ]
        }
      ]
    },
    {
      "cell_type": "code",
      "source": [
        "print(\"# of hours\\tFee ($)\")\n",
        "print(\"---------------------------------\")\n",
        "for hours in range(1,9):\n",
        "  fee = 5 + hours * 2.5\n",
        "  if fee < 10:\n",
        "    fee = 10\n",
        "    print(f\"{hours}\\t\\t{fee}\")\n",
        "  elif fee > 20:\n",
        "    fee = 20\n",
        "    print(f\"{hours}\\t\\t{fee}\")\n",
        "  else:\n",
        "    print(f\"{hours}\\t\\t{fee}\")"
      ],
      "metadata": {
        "colab": {
          "base_uri": "https://localhost:8080/"
        },
        "id": "GBydOVkOiVTI",
        "outputId": "958b8003-836c-4fe9-822f-e8d1820cee30"
      },
      "execution_count": null,
      "outputs": [
        {
          "output_type": "stream",
          "name": "stdout",
          "text": [
            "# of hours\tFee ($)\n",
            "---------------------------------\n",
            "1\t\t10\n",
            "2\t\t10.0\n",
            "3\t\t12.5\n",
            "4\t\t15.0\n",
            "5\t\t17.5\n",
            "6\t\t20.0\n",
            "7\t\t20\n",
            "8\t\t20\n"
          ]
        }
      ]
    },
    {
      "cell_type": "markdown",
      "source": [
        "**Assignment 5**"
      ],
      "metadata": {
        "id": "MYKjr8q3azxk"
      }
    },
    {
      "cell_type": "code",
      "source": [
        "for adCost in range(0,201,25):\n",
        "\n",
        "  AA = 2*((adCost)**(0.5))\n",
        "  Profit = ((AA+20)*10) - 200 - adCost\n",
        "\n",
        "  print(f'{adCost}\\t\\t{round(Profit)}')"
      ],
      "metadata": {
        "colab": {
          "base_uri": "https://localhost:8080/"
        },
        "id": "AJgzIvd8a5uA",
        "outputId": "8aebe1be-5d3d-4872-a88d-bd48805beb71"
      },
      "execution_count": null,
      "outputs": [
        {
          "output_type": "stream",
          "name": "stdout",
          "text": [
            "0\t\t0\n",
            "25\t\t75\n",
            "50\t\t91\n",
            "75\t\t98\n",
            "100\t\t100\n",
            "125\t\t99\n",
            "150\t\t95\n",
            "175\t\t90\n",
            "200\t\t83\n"
          ]
        }
      ]
    },
    {
      "cell_type": "markdown",
      "source": [
        "**Assignment 6**"
      ],
      "metadata": {
        "id": "dlpoxleUybeo"
      }
    },
    {
      "cell_type": "markdown",
      "source": [
        "**Append items to list iteratively (while loop)**\n",
        "\n",
        "Starting with an empty list, design a program in Python that populates the list by repeatedly asking the user for numerical inputs. The pricess stops when the user gives 0. Finally, the list should be displayed in descending order."
      ],
      "metadata": {
        "id": "B0nskOfQyd2P"
      }
    },
    {
      "cell_type": "markdown",
      "source": [
        "**How it works:**\n",
        "\n",
        "1. Starts with an empty list numbers.\n",
        "\n",
        "2. Uses an infinite while True loop and asks the user for a number.\n",
        "\n",
        "3. If the user enters 0, the loop breaks (stops).\n",
        "\n",
        "4. Otherwise, the number is appended to the list.\n",
        "\n",
        "5. After the loop, the list is sorted in descending order using .sort(reverse=True).\n",
        "\n",
        "6. Finally, the list is printed."
      ],
      "metadata": {
        "id": "fjt2lHYR1NYR"
      }
    },
    {
      "cell_type": "code",
      "source": [
        "#Start with Empty List\n",
        "numbers=[]\n",
        "\n",
        "#Ask user for input function\n",
        "num= int(input(\"Enter a number (0 to quit):\"))\n",
        "\n",
        "#Use a WHILE loop:\n",
        "#START THE LOOP:\n",
        "while num !=0:\n",
        " numbers.append(num)\n",
        " #STOP THE LOOP:\n",
        " num=int(input(\"Enter a number (0 to quit):\"))\n",
        "\n",
        "#Sorting in descending order\n",
        "numbers.sort(reverse=True)\n",
        "\n",
        "#Display the final list\n",
        "print(numbers)\n"
      ],
      "metadata": {
        "colab": {
          "base_uri": "https://localhost:8080/"
        },
        "id": "8MfXMEdBzMTq",
        "outputId": "6ebb15bd-7535-40ae-e168-ace80cb27d67"
      },
      "execution_count": null,
      "outputs": [
        {
          "output_type": "stream",
          "name": "stdout",
          "text": [
            "Enter a number (0 to quit):12\n",
            "Enter a number (0 to quit):10\n",
            "Enter a number (0 to quit):3\n",
            "Enter a number (0 to quit):5\n",
            "Enter a number (0 to quit):0\n",
            "[12, 10, 5, 3]\n"
          ]
        }
      ]
    },
    {
      "cell_type": "markdown",
      "source": [
        "**Assignment 7**"
      ],
      "metadata": {
        "id": "nuEqIwMHyeqa"
      }
    },
    {
      "cell_type": "code",
      "source": [
        "import random\n",
        "\n",
        "def play():\n",
        "    print(\"Welcome to Rock, Paper, Scissors!\")\n",
        "    options = [\"rock\", \"paper\", \"scissors\"]\n",
        "\n",
        "    while True:\n",
        "        user = input(\"Choose Rock, Paper, or Scissors (or 'quit' to exit): \").lower()\n",
        "        if user == \"quit\":\n",
        "            print(\"Thanks for playing!\")\n",
        "            break\n",
        "        if user not in options:\n",
        "            print(\"Invalid choice, try again.\")\n",
        "            continue\n",
        "\n",
        "        computer = random.choice(options)\n",
        "        print(f\"Computer chose: {computer}\")\n",
        "\n",
        "        if user == computer:\n",
        "            print(\"It's a tie!\\n\")\n",
        "        elif (user == \"rock\" and computer == \"scissors\") or \\\n",
        "             (user == \"paper\" and computer == \"rock\") or \\\n",
        "             (user == \"scissors\" and computer == \"paper\"):\n",
        "            print(\"You win!\\n\")\n",
        "        else:\n",
        "            print(\"You lose!\\n\")\n",
        "\n",
        "play()"
      ],
      "metadata": {
        "colab": {
          "base_uri": "https://localhost:8080/",
          "height": 339
        },
        "id": "CA3Iix9-yoWy",
        "outputId": "2bda79f5-66be-44f8-e159-6183a821ba39"
      },
      "execution_count": 1,
      "outputs": [
        {
          "output_type": "stream",
          "name": "stdout",
          "text": [
            "Welcome to Rock, Paper, Scissors!\n"
          ]
        },
        {
          "output_type": "error",
          "ename": "KeyboardInterrupt",
          "evalue": "Interrupted by user",
          "traceback": [
            "\u001b[0;31m---------------------------------------------------------------------------\u001b[0m",
            "\u001b[0;31mKeyboardInterrupt\u001b[0m                         Traceback (most recent call last)",
            "\u001b[0;32m/tmp/ipython-input-2657654671.py\u001b[0m in \u001b[0;36m<cell line: 0>\u001b[0;34m()\u001b[0m\n\u001b[1;32m     26\u001b[0m             \u001b[0mprint\u001b[0m\u001b[0;34m(\u001b[0m\u001b[0;34m\"You lose!\\n\"\u001b[0m\u001b[0;34m)\u001b[0m\u001b[0;34m\u001b[0m\u001b[0;34m\u001b[0m\u001b[0m\n\u001b[1;32m     27\u001b[0m \u001b[0;34m\u001b[0m\u001b[0m\n\u001b[0;32m---> 28\u001b[0;31m \u001b[0mplay\u001b[0m\u001b[0;34m(\u001b[0m\u001b[0;34m)\u001b[0m\u001b[0;34m\u001b[0m\u001b[0;34m\u001b[0m\u001b[0m\n\u001b[0m",
            "\u001b[0;32m/tmp/ipython-input-2657654671.py\u001b[0m in \u001b[0;36mplay\u001b[0;34m()\u001b[0m\n\u001b[1;32m      6\u001b[0m \u001b[0;34m\u001b[0m\u001b[0m\n\u001b[1;32m      7\u001b[0m     \u001b[0;32mwhile\u001b[0m \u001b[0;32mTrue\u001b[0m\u001b[0;34m:\u001b[0m\u001b[0;34m\u001b[0m\u001b[0;34m\u001b[0m\u001b[0m\n\u001b[0;32m----> 8\u001b[0;31m         \u001b[0muser\u001b[0m \u001b[0;34m=\u001b[0m \u001b[0minput\u001b[0m\u001b[0;34m(\u001b[0m\u001b[0;34m\"Choose Rock, Paper, or Scissors (or 'quit' to exit): \"\u001b[0m\u001b[0;34m)\u001b[0m\u001b[0;34m.\u001b[0m\u001b[0mlower\u001b[0m\u001b[0;34m(\u001b[0m\u001b[0;34m)\u001b[0m\u001b[0;34m\u001b[0m\u001b[0;34m\u001b[0m\u001b[0m\n\u001b[0m\u001b[1;32m      9\u001b[0m         \u001b[0;32mif\u001b[0m \u001b[0muser\u001b[0m \u001b[0;34m==\u001b[0m \u001b[0;34m\"quit\"\u001b[0m\u001b[0;34m:\u001b[0m\u001b[0;34m\u001b[0m\u001b[0;34m\u001b[0m\u001b[0m\n\u001b[1;32m     10\u001b[0m             \u001b[0mprint\u001b[0m\u001b[0;34m(\u001b[0m\u001b[0;34m\"Thanks for playing!\"\u001b[0m\u001b[0;34m)\u001b[0m\u001b[0;34m\u001b[0m\u001b[0;34m\u001b[0m\u001b[0m\n",
            "\u001b[0;32m/usr/local/lib/python3.12/dist-packages/ipykernel/kernelbase.py\u001b[0m in \u001b[0;36mraw_input\u001b[0;34m(self, prompt)\u001b[0m\n\u001b[1;32m   1175\u001b[0m                 \u001b[0;34m\"raw_input was called, but this frontend does not support input requests.\"\u001b[0m\u001b[0;34m\u001b[0m\u001b[0;34m\u001b[0m\u001b[0m\n\u001b[1;32m   1176\u001b[0m             )\n\u001b[0;32m-> 1177\u001b[0;31m         return self._input_request(\n\u001b[0m\u001b[1;32m   1178\u001b[0m             \u001b[0mstr\u001b[0m\u001b[0;34m(\u001b[0m\u001b[0mprompt\u001b[0m\u001b[0;34m)\u001b[0m\u001b[0;34m,\u001b[0m\u001b[0;34m\u001b[0m\u001b[0;34m\u001b[0m\u001b[0m\n\u001b[1;32m   1179\u001b[0m             \u001b[0mself\u001b[0m\u001b[0;34m.\u001b[0m\u001b[0m_parent_ident\u001b[0m\u001b[0;34m[\u001b[0m\u001b[0;34m\"shell\"\u001b[0m\u001b[0;34m]\u001b[0m\u001b[0;34m,\u001b[0m\u001b[0;34m\u001b[0m\u001b[0;34m\u001b[0m\u001b[0m\n",
            "\u001b[0;32m/usr/local/lib/python3.12/dist-packages/ipykernel/kernelbase.py\u001b[0m in \u001b[0;36m_input_request\u001b[0;34m(self, prompt, ident, parent, password)\u001b[0m\n\u001b[1;32m   1217\u001b[0m             \u001b[0;32mexcept\u001b[0m \u001b[0mKeyboardInterrupt\u001b[0m\u001b[0;34m:\u001b[0m\u001b[0;34m\u001b[0m\u001b[0;34m\u001b[0m\u001b[0m\n\u001b[1;32m   1218\u001b[0m                 \u001b[0;31m# re-raise KeyboardInterrupt, to truncate traceback\u001b[0m\u001b[0;34m\u001b[0m\u001b[0;34m\u001b[0m\u001b[0m\n\u001b[0;32m-> 1219\u001b[0;31m                 \u001b[0;32mraise\u001b[0m \u001b[0mKeyboardInterrupt\u001b[0m\u001b[0;34m(\u001b[0m\u001b[0;34m\"Interrupted by user\"\u001b[0m\u001b[0;34m)\u001b[0m \u001b[0;32mfrom\u001b[0m \u001b[0;32mNone\u001b[0m\u001b[0;34m\u001b[0m\u001b[0;34m\u001b[0m\u001b[0m\n\u001b[0m\u001b[1;32m   1220\u001b[0m             \u001b[0;32mexcept\u001b[0m \u001b[0mException\u001b[0m\u001b[0;34m:\u001b[0m\u001b[0;34m\u001b[0m\u001b[0;34m\u001b[0m\u001b[0m\n\u001b[1;32m   1221\u001b[0m                 \u001b[0mself\u001b[0m\u001b[0;34m.\u001b[0m\u001b[0mlog\u001b[0m\u001b[0;34m.\u001b[0m\u001b[0mwarning\u001b[0m\u001b[0;34m(\u001b[0m\u001b[0;34m\"Invalid Message:\"\u001b[0m\u001b[0;34m,\u001b[0m \u001b[0mexc_info\u001b[0m\u001b[0;34m=\u001b[0m\u001b[0;32mTrue\u001b[0m\u001b[0;34m)\u001b[0m\u001b[0;34m\u001b[0m\u001b[0;34m\u001b[0m\u001b[0m\n",
            "\u001b[0;31mKeyboardInterrupt\u001b[0m: Interrupted by user"
          ]
        }
      ]
    },
    {
      "cell_type": "markdown",
      "source": [
        "**Assignment 8**\n",
        "\n",
        "A company sells two products, their prices are:\n",
        "*   P-01: $9.95\n",
        "\n",
        "*   P-02: $10.50\n",
        "\n",
        "**Write a program that sets up a dictionary with product IDs as keys and prices as their values. Prompt the user to enter a product ID, then display that product's price.**\n",
        "\n",
        "Sample Run:\n",
        "*   Enter product ID:  P-01\n",
        "*   P-01: $9.95\n",
        "\n",
        "**For your program with a dictionary of product IDs and their prices, refine it so that if the user enters a product ID not in the dictionary it displays a message.**\n",
        "\n",
        "Sample run:\n",
        "*   Enter product ID: X-01\n",
        "*   X-01 not found"
      ],
      "metadata": {
        "id": "DtrjFdRd5raz"
      }
    },
    {
      "cell_type": "code",
      "source": [
        "# Step 1: Create dictionary with product IDs as keys and prices as values\n",
        "products = {\n",
        "    \"P-01\": 9.95,\n",
        "    \"P-02\": 10.50\n",
        "}\n",
        "\n",
        "# Step 2: Prompt user for product ID\n",
        "id = input('Enter product ID: ')\n",
        "\n",
        "# Step 3: Check if product exists in dictionary\n",
        "if id in products:\n",
        "  print(f'Product ID: {id}, Price: {products[id]}$')\n",
        "else:\n",
        "  print(f'Product ID {id} not found')\n"
      ],
      "metadata": {
        "colab": {
          "base_uri": "https://localhost:8080/"
        },
        "id": "D1jfaIN58AcB",
        "outputId": "38ba659f-a5f1-496d-c102-984f6a3e6980"
      },
      "execution_count": 1,
      "outputs": [
        {
          "output_type": "stream",
          "name": "stdout",
          "text": [
            "Enter product ID: P-03\n",
            "Product ID P-03 not found\n"
          ]
        }
      ]
    },
    {
      "cell_type": "markdown",
      "source": [
        "**Dynamic Dictionary; N distict key:value pairs (while loop/ if-elif-else statements)**\n",
        "\n",
        "Populate an empty dictionary iteratively N times (choose your own value for N) to add name:count pairs. The key but be given as input from the user on every iteration. Use conditionals to test if the key has been used before. If not, set count to 1; otherwise, increase count by 1"
      ],
      "metadata": {
        "id": "kUroeS9h_Pvj"
      }
    },
    {
      "cell_type": "code",
      "source": [
        "names = {}\n",
        "\n",
        "for i in range(5):\n",
        "  name = input(\"Enter a name: \")\n",
        "\n",
        "  if name in names:\n",
        "    names[name] = names[name] + 1\n",
        "  else:\n",
        "    names[name] = 1\n",
        "\n",
        "print(names)"
      ],
      "metadata": {
        "colab": {
          "base_uri": "https://localhost:8080/"
        },
        "id": "epszboZ4AlQn",
        "outputId": "b8184898-3a8b-4d82-ea24-31db597b3494"
      },
      "execution_count": 6,
      "outputs": [
        {
          "output_type": "stream",
          "name": "stdout",
          "text": [
            "Enter a name: Sarah\n",
            "Enter a name: Sarah\n",
            "Enter a name: John\n",
            "Enter a name: Bob\n",
            "Enter a name: John\n",
            "{'Sarah': 2, 'John': 2, 'Bob': 1}\n"
          ]
        }
      ]
    }
  ]
}