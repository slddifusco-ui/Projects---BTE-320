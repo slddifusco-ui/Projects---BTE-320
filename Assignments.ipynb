{
  "nbformat": 4,
  "nbformat_minor": 0,
  "metadata": {
    "colab": {
      "provenance": [],
      "authorship_tag": "ABX9TyMS4Kr6rPVByykuvJz09/dz",
      "include_colab_link": true
    },
    "kernelspec": {
      "name": "python3",
      "display_name": "Python 3"
    },
    "language_info": {
      "name": "python"
    }
  },
  "cells": [
    {
      "cell_type": "markdown",
      "metadata": {
        "id": "view-in-github",
        "colab_type": "text"
      },
      "source": [
        "<a href=\"https://colab.research.google.com/github/slddifusco-ui/Projects---BTE-290/blob/main/Assignments.ipynb\" target=\"_parent\"><img src=\"https://colab.research.google.com/assets/colab-badge.svg\" alt=\"Open In Colab\"/></a>"
      ]
    },
    {
      "cell_type": "markdown",
      "source": [
        "# **In Class Assignments**"
      ],
      "metadata": {
        "id": "DfMglxfHxrTI"
      }
    },
    {
      "cell_type": "markdown",
      "source": [
        "**Assignment #1**"
      ],
      "metadata": {
        "id": "0jIge2JwF6oy"
      }
    },
    {
      "cell_type": "markdown",
      "source": [
        "name = input(\"...\")\n",
        "\n",
        "name= int(name)\n",
        "\n",
        "b=...\n",
        "\n",
        "input(b)\n",
        "\n",
        "float(b)\n",
        "\n",
        "str(b)\n",
        "\n",
        "set(b)\n",
        "\n",
        "name = Int(input(\"...\"))"
      ],
      "metadata": {
        "id": "iJ1IDLLjRpNu"
      }
    },
    {
      "cell_type": "code",
      "source": [
        "month = input(\"Enter month: \")\n",
        "day = int(input(\"Enter day: \"))\n",
        "print(month)\n",
        "print(month,day)\n",
        "type(day)"
      ],
      "metadata": {
        "colab": {
          "base_uri": "https://localhost:8080/"
        },
        "id": "GfrcFyIdSG8t",
        "outputId": "9f593307-366e-4dbb-8066-b0f75f293ff1"
      },
      "execution_count": null,
      "outputs": [
        {
          "output_type": "stream",
          "name": "stdout",
          "text": [
            "Enter month: September\n",
            "Enter day: 02\n",
            "September\n",
            "September 2\n"
          ]
        },
        {
          "output_type": "execute_result",
          "data": {
            "text/plain": [
              "int"
            ]
          },
          "metadata": {},
          "execution_count": 18
        }
      ]
    },
    {
      "cell_type": "code",
      "execution_count": null,
      "metadata": {
        "id": "WuFVuTsBn57N",
        "colab": {
          "base_uri": "https://localhost:8080/"
        },
        "outputId": "0003b262-2e7b-456d-e4eb-adc797d28972"
      },
      "outputs": [
        {
          "output_type": "stream",
          "name": "stdout",
          "text": [
            "Enter sales ($):12000\n",
            "Sales: $12000.0\n",
            "Enter tax rate (%): 30\n",
            " Tax Rate: 30.0\n",
            "cogs: $4800.0\n",
            "Gross Profit: $7200.0\n",
            "Taxes: $2160.0\n",
            "Net_Profit: $5040.0\n"
          ]
        }
      ],
      "source": [
        "sales = float(input(\"Enter sales ($):\"))\n",
        "print(f\"Sales: ${sales}\")\n",
        "rate = float(input(\"Enter tax rate (%): \"))\n",
        "print(f\" Tax Rate: {rate}\")\n",
        "\n",
        "# Cost of Goods Sold\n",
        "cogs = 0.4\n",
        "cogs_sold= sales * cogs\n",
        "print(f\"cogs: ${cogs_sold}\")\n",
        "\n",
        "# Gross Profit\n",
        "Gross_rofit = sales - (cogs * sales)\n",
        "print(f\"Gross Profit: ${Gross_rofit}\")\n",
        "\n",
        "#Taxes\n",
        "taxes = (rate/100) * Gross_rofit\n",
        "print(f\"Taxes: ${taxes}\")\n",
        "\n",
        "#Net Income\n",
        "net_profit = Gross_rofit - taxes\n",
        "print(f\"Net_Profit: ${net_profit}\")"
      ]
    },
    {
      "cell_type": "markdown",
      "source": [
        "**Assignment #2**"
      ],
      "metadata": {
        "id": "AuL3elAfSoW8"
      }
    },
    {
      "cell_type": "markdown",
      "source": [
        "**Inventory Management:**\n",
        "\n",
        "Assume an item has a steady demand during every year. There is a cost for placing an order with the supplioer and a cost for restocking this item. There is also a cost for storing items /eg. warehouse/. Given these costs and your demand forecast, calculate how much of the item to reorder to minimize annual ordering and storing costs. This amount is reffered to as the Economic Order Quantity (EOQ)\n",
        "\n",
        "**Given the following assumptions:**\n",
        "\n",
        "* D= annual demand (units/year)  \n",
        "* S= reorder cost($/order)  \n",
        "\n",
        "*   H= holding cost($/unit/year)\n",
        "\n",
        "* Then EOQ= (2*D*S/H)^1/2\n"
      ],
      "metadata": {
        "id": "d_Mrz0jen7_c"
      }
    },
    {
      "cell_type": "code",
      "source": [
        "#Inputs: demand, reorder cost and holding cost\n",
        "demand=input(\"Enter demand(units/year):\")\n",
        "demand=int(demand)\n",
        "\n",
        "reorder=input(\"Enter reorder cost ($/unit):\")\n",
        "reorder=float(reorder)\n",
        "\n",
        "holding=input(\"Enter holding cost ($/unit/year)\")\n",
        "holding=float(holding)\n",
        "\n",
        "#Process: Calculate EOQ\n",
        "eoq= (2 * demand * reorder / holding)**0.5\n",
        "\n",
        "#Output: Display EOQ Value\n",
        "print(f\"EOQ = {eoq} units\")"
      ],
      "metadata": {
        "colab": {
          "base_uri": "https://localhost:8080/"
        },
        "id": "C4E6c1VWpp-y",
        "outputId": "1bf81599-83fc-4fbe-bdfb-e97b3599a274"
      },
      "execution_count": null,
      "outputs": [
        {
          "output_type": "stream",
          "name": "stdout",
          "text": [
            "Enter demand(units/year):100\n",
            "Enter reorder cost ($/unit):1.5\n",
            "Enter holding cost ($/unit/year)3\n",
            "EOQ = 10.0 units\n"
          ]
        }
      ]
    },
    {
      "cell_type": "markdown",
      "source": [
        "**Assignment 3**"
      ],
      "metadata": {
        "id": "CB2DHzpnqX81"
      }
    },
    {
      "cell_type": "markdown",
      "source": [
        "**Numerical calculator (if-elif-else statements)**\n",
        "\n",
        "Instructions: Design a simple numberical calculator in Python. The user needs to provide three inputs: two numbers and the mathematical operator of their choice. The program should print the output on the screen"
      ],
      "metadata": {
        "id": "kqQGOZeDqc_j"
      }
    },
    {
      "cell_type": "code",
      "source": [
        "# Numerical Calculator\n",
        "\n",
        "# Inputs\n",
        "number1 = float(input(\"Enter the first number:\"))\n",
        "number2 = float(input(\"Enter the second number:\"))\n",
        "operator = input(\"Enter an operator (+, -, *, /, //, **, %): \")\n",
        "\n",
        "# Calculator Logic\n",
        "if operator == \"+\":\n",
        "    result = number1 + number2\n",
        "    print(\"Result:\", result)\n",
        "elif operator == \"-\":\n",
        "    result = number1 - number2\n",
        "    print(\"Result:\", result)\n",
        "elif operator == \"*\":\n",
        "    result = number1 * number2\n",
        "    print(\"Result:\", result)\n",
        "elif operator == \"/\":\n",
        "    if number2 != 0:\n",
        "        result = number1 / number2\n",
        "        print(\"Result:\", result)\n",
        "    else:\n",
        "        print(\"Error: Division by zero is not allowed.\")\n",
        "elif operator == \"//\":\n",
        "    result = number1 // number2\n",
        "    print(\"Result:\", result)\n",
        "elif operator == \"**\":\n",
        "    result = number1 ** number2\n",
        "    print(\"Result:\", result)\n",
        "elif operator == \"%\":\n",
        "    result = number1 % number2\n",
        "    print(\"Result:\", result)\n",
        "else:\n",
        "    print(\"Invalid operator! Please use +, -, *, /, //, **, %.\")\n"
      ],
      "metadata": {
        "colab": {
          "base_uri": "https://localhost:8080/"
        },
        "id": "vB1HmkDVq0p4",
        "outputId": "003bc4f4-4c01-449f-aed4-956daee9557d"
      },
      "execution_count": null,
      "outputs": [
        {
          "output_type": "stream",
          "name": "stdout",
          "text": [
            "Enter the first number:200\n",
            "Enter the second number:12\n",
            "Enter an operator (+, -, *, /, //, **, %): **\n",
            "Result: 4.096e+27\n"
          ]
        }
      ]
    }
  ]
}